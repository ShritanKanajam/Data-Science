{
 "cells": [
  {
   "cell_type": "code",
   "execution_count": 38,
   "metadata": {},
   "outputs": [
    {
     "name": "stdout",
     "output_type": "stream",
     "text": [
      "File exists\n"
     ]
    }
   ],
   "source": [
    "import os\n",
    "if os.path.exists('../kaggle/input/digit-recognizer/train.csv'):\n",
    "    print(\"File exists\")\n",
    "else:\n",
    "    print(\"File does not exist\")"
   ]
  },
  {
   "cell_type": "code",
   "execution_count": 39,
   "metadata": {},
   "outputs": [
    {
     "name": "stdout",
     "output_type": "stream",
     "text": [
      "File exists\n"
     ]
    }
   ],
   "source": [
    "import os\n",
    "if os.path.exists('../kaggle/input/digit-recognizer/train.csv'):\n",
    "    print(\"File exists\")\n",
    "else:\n",
    "    print(\"File does not exist\")"
   ]
  },
  {
   "cell_type": "code",
   "execution_count": 40,
   "metadata": {},
   "outputs": [],
   "source": [
    "import numpy as np\n",
    "import pandas as pd\n",
    "import matplotlib.pyplot as plt"
   ]
  },
  {
   "cell_type": "code",
   "execution_count": 41,
   "metadata": {},
   "outputs": [
    {
     "data": {
      "text/plain": [
       "(42000, 785)"
      ]
     },
     "execution_count": 41,
     "metadata": {},
     "output_type": "execute_result"
    }
   ],
   "source": [
    "#set data to our training data\n",
    "data = pd.read_csv('../kaggle/input/digit-recognizer/train.csv')\n",
    "data.head()\n",
    "data.shape"
   ]
  },
  {
   "cell_type": "code",
   "execution_count": 42,
   "metadata": {},
   "outputs": [
    {
     "data": {
      "text/plain": [
       "(785, 42000)"
      ]
     },
     "execution_count": 42,
     "metadata": {},
     "output_type": "execute_result"
    }
   ],
   "source": [
    "#shape data in a matrix to make it in terms of columns\n",
    "npData=data.to_numpy().T\n",
    "npData.shape"
   ]
  },
  {
   "cell_type": "code",
   "execution_count": 43,
   "metadata": {},
   "outputs": [
    {
     "name": "stdout",
     "output_type": "stream",
     "text": [
      "785 42000\n"
     ]
    }
   ],
   "source": [
    "#set dimensions in terms of variables\n",
    "n,mTotal=npData.shape\n",
    "print(n,mTotal)"
   ]
  },
  {
   "cell_type": "code",
   "execution_count": 44,
   "metadata": {},
   "outputs": [
    {
     "data": {
      "text/plain": [
       "(1, 42000)"
      ]
     },
     "execution_count": 44,
     "metadata": {},
     "output_type": "execute_result"
    }
   ],
   "source": [
    "## set image data as a column vector. Label data is 0th label row \n",
    "labelData=npData[0, :]\n",
    "labelData=labelData.reshape(1,labelData.size) #reshape by 1 row by num of entries)\n",
    "labelData.shape"
   ]
  },
  {
   "cell_type": "code",
   "execution_count": 45,
   "metadata": {},
   "outputs": [
    {
     "data": {
      "text/plain": [
       "(784, 42000)"
      ]
     },
     "execution_count": 45,
     "metadata": {},
     "output_type": "execute_result"
    }
   ],
   "source": [
    "#selects data from first image to n-1th image. 42000 image's pixels are column vectors\n",
    "imageData=npData[1:n, :]\n",
    "imageData.shape"
   ]
  },
  {
   "cell_type": "code",
   "execution_count": 46,
   "metadata": {},
   "outputs": [
    {
     "data": {
      "image/png": "[encoded data removed]",
      "text/plain": [
       "<Figure size 640x480 with 1 Axes>"
      ]
     },
     "metadata": {},
     "output_type": "display_data"
    },
    {
     "name": "stdout",
     "output_type": "stream",
     "text": [
      "label 4\n"
     ]
    }
   ],
   "source": [
    "#plot kth image\n",
    "k=40\n",
    "kthImagedata=imageData[:, k-1].reshape(28,28)\n",
    "kthImagedata.shape\n",
    "plt.gray()\n",
    "plt.imshow(kthImagedata, interpolation='nearest')\n",
    "plt.show()\n",
    "print('label', labelData[0, k-1])"
   ]
  },
  {
   "cell_type": "code",
   "execution_count": 47,
   "metadata": {},
   "outputs": [
    {
     "data": {
      "text/plain": [
       "(784, 2000)"
      ]
     },
     "execution_count": 47,
     "metadata": {},
     "output_type": "execute_result"
    }
   ],
   "source": [
    "Xtest = imageData[:, 0:2000] # 0-2000 is saved for test\n",
    "Ytest = labelData[:, 0:2000] # label values of 0-2000 saved for testing\n",
    "Xtest.shape"
   ]
  },
  {
   "cell_type": "code",
   "execution_count": 48,
   "metadata": {},
   "outputs": [
    {
     "data": {
      "text/plain": [
       "(1, 40000)"
      ]
     },
     "execution_count": 48,
     "metadata": {},
     "output_type": "execute_result"
    }
   ],
   "source": [
    "X = imageData[:, 2000:mTotal]/255 #this is a0\n",
    "Y_bar = labelData[:, 2000:mTotal] #this is y\n",
    "n_x,m=X.shape\n",
    "Y_bar.shape"
   ]
  },
  {
   "cell_type": "code",
   "execution_count": 49,
   "metadata": {},
   "outputs": [
    {
     "data": {
      "text/plain": [
       "array([[ 0,  1,  2,  3,  4,  5,  6],\n",
       "       [ 7,  8,  9, 10, 11, 12, 13],\n",
       "       [14, 15, 16, 17, 18, 19, 20],\n",
       "       [21, 22, 23, 24, 25, 26, 27],\n",
       "       [28, 29, 30, 31, 32, 33, 34]])"
      ]
     },
     "execution_count": 49,
     "metadata": {},
     "output_type": "execute_result"
    }
   ],
   "source": [
    "ex= np.arange(35).reshape(5,7)\n",
    "ex"
   ]
  },
  {
   "cell_type": "code",
   "execution_count": 50,
   "metadata": {},
   "outputs": [
    {
     "data": {
      "text/plain": [
       "(1, 3)"
      ]
     },
     "execution_count": 50,
     "metadata": {},
     "output_type": "execute_result"
    }
   ],
   "source": [
    "rowInd = np.array([0,2,4])\n",
    "rowInd = rowInd.reshape(1, rowInd.size)\n",
    "rowInd.shape"
   ]
  },
  {
   "cell_type": "code",
   "execution_count": 51,
   "metadata": {},
   "outputs": [
    {
     "data": {
      "text/plain": [
       "(1, 3)"
      ]
     },
     "execution_count": 51,
     "metadata": {},
     "output_type": "execute_result"
    }
   ],
   "source": [
    "colInd = np.array([0,1,2])\n",
    "colInd = colInd.reshape(1, colInd.size)\n",
    "colInd.shape"
   ]
  },
  {
   "cell_type": "code",
   "execution_count": 52,
   "metadata": {},
   "outputs": [
    {
     "data": {
      "text/plain": [
       "array([[ 0, 15, 30]])"
      ]
     },
     "execution_count": 52,
     "metadata": {},
     "output_type": "execute_result"
    }
   ],
   "source": [
    "ex[rowInd, colInd]"
   ]
  },
  {
   "cell_type": "code",
   "execution_count": 53,
   "metadata": {},
   "outputs": [],
   "source": [
    "ex[:,:]=0"
   ]
  },
  {
   "cell_type": "code",
   "execution_count": 54,
   "metadata": {},
   "outputs": [
    {
     "data": {
      "text/plain": [
       "array([[1000,    0,    0,    0,    0,    0,    0],\n",
       "       [   0,    0,    0,    0,    0,    0,    0],\n",
       "       [   0, 1000,    0,    0,    0,    0,    0],\n",
       "       [   0,    0,    0,    0,    0,    0,    0],\n",
       "       [   0,    0, 1000,    0,    0,    0,    0]])"
      ]
     },
     "execution_count": 54,
     "metadata": {},
     "output_type": "execute_result"
    }
   ],
   "source": [
    "ex[rowInd, colInd]=1000\n",
    "ex"
   ]
  },
  {
   "cell_type": "code",
   "execution_count": 55,
   "metadata": {},
   "outputs": [],
   "source": [
    "def labelsToProbVectors(no_of_categories, Y_bar):\n",
    "    Y=np.zeros((no_of_categories, Y_bar.size))\n",
    "    Y[Y_bar,np.arange(Y_bar.size)]=1\n",
    "    return Y"
   ]
  },
  {
   "cell_type": "code",
   "execution_count": 56,
   "metadata": {},
   "outputs": [
    {
     "name": "stdout",
     "output_type": "stream",
     "text": [
      "[0. 0. 0. 0. 0. 0. 0. 1. 0. 0.] 7\n"
     ]
    }
   ],
   "source": [
    "Y = labelsToProbVectors(10, Y_bar)\n",
    "k = skibidi = 1000\n",
    "print(Y[:,k], Y_bar[0,k])"
   ]
  },
  {
   "cell_type": "code",
   "execution_count": 57,
   "metadata": {},
   "outputs": [],
   "source": [
    "def linearMap(w, x, b):\n",
    "    return np.matmul(w, x)+b"
   ]
  },
  {
   "cell_type": "code",
   "execution_count": 58,
   "metadata": {},
   "outputs": [],
   "source": [
    "def Wb(nh0, nh1):\n",
    "    W = np.random.rand(nh1, nh0)-.5\n",
    "    b = np.random.rand(nh1, 1) -.5\n",
    "    return W, b\n",
    "W, b =Wb(784, 10)"
   ]
  },
  {
   "cell_type": "code",
   "execution_count": 59,
   "metadata": {},
   "outputs": [],
   "source": [
    "def softmax(z):\n",
    "    z -= np.max(z, axis=0, keepdims=True)\n",
    "    exp_z = np.exp(z)\n",
    "    return exp_z / np.sum(exp_z, axis=0, keepdims=True)"
   ]
  },
  {
   "cell_type": "markdown",
   "metadata": {},
   "source": [
    "$\\bullet$ Create a function, $Wb,$ that outputs a random matrix $W$ and a random vector $b$ with matrix size being $n_h^o\\times n_h^i$ and the random vector with size $n_h^o\\times 1.$  \n",
    "$n_h^o$ is the output dimension and $n_h^i$ is the input dimension  \n",
    "The entries should be random numbers between -0.5 and 0.5"
   ]
  },
  {
   "cell_type": "markdown",
   "metadata": {},
   "source": [
    "$\\bullet$ Create a function named \"layer\" that takes the inputs:  \n",
    "\n",
    "> (i) $n_h^i$: dimension of the input for the layer  \n",
    "> (ii) $n_h^o$: dimension of the output of the layer  \n",
    "> (iii) $W$ a matrix of dimension $n_h^o\\times n_h^i$ and $b \\in R^{n_h^o}.$  \n",
    "> (iv) A nonlinear function $f$  \n",
    "> (v) Output should be $f(W*a+b)$ where $a$ as input\n"
   ]
  },
  {
   "cell_type": "code",
   "execution_count": 60,
   "metadata": {},
   "outputs": [],
   "source": [
    "def layer(a, W, b, f):\n",
    "    z=W@a+b\n",
    "    return z, f(z)\n"
   ]
  },
  {
   "cell_type": "code",
   "execution_count": 61,
   "metadata": {},
   "outputs": [],
   "source": [
    "def ReLu(z):\n",
    "    return z * (z > 0)\n"
   ]
  },
  {
   "cell_type": "code",
   "execution_count": 62,
   "metadata": {},
   "outputs": [],
   "source": [
    "def forwardProp(X,W1,b1,f1,W2,b2,f2):\n",
    "    z1,a1=layer(X,W1,b1,f1)\n",
    "    z2,a2=layer(a1,W2,b2,f2)\n",
    "    return z1,a1,z2,a2\n",
    "\n"
   ]
  },
  {
   "cell_type": "code",
   "execution_count": 63,
   "metadata": {},
   "outputs": [],
   "source": [
    "nh0=784\n",
    "nh1=10\n",
    "nh2=10\n",
    "# W1, b1 = Wb(784, 10)\n",
    "# W2, b2 = Wb(10, 10)\n",
    "# b1.shape\n",
    "# a2 = forwardProp(X, W1, b1, ReLu, W2, b2, softmax)\n",
    "W1,b1=Wb(784,10)\n",
    "W2,b2=Wb(10,10)\n",
    "#z1,a1,z2,a2=forwardProp(X,W1,b1,ReLu,W2,b2,softmax)"
   ]
  },
  {
   "cell_type": "code",
   "execution_count": 64,
   "metadata": {},
   "outputs": [],
   "source": [
    "def crossEntropy(y, a):\n",
    "    np.sum(np.multiply(a, y))"
   ]
  },
  {
   "cell_type": "code",
   "execution_count": 65,
   "metadata": {},
   "outputs": [],
   "source": [
    "def derivative_relu(z):\n",
    "    return z>0"
   ]
  },
  {
   "cell_type": "code",
   "execution_count": 66,
   "metadata": {},
   "outputs": [],
   "source": [
    "def clip_gradients(gradients, threshold=5.0):\n",
    "    for gradient in gradients:\n",
    "       np.clip(gradient, -threshold, threshold, out=gradient)\n",
    "    return gradients\n"
   ]
  },
  {
   "cell_type": "code",
   "execution_count": 67,
   "metadata": {},
   "outputs": [],
   "source": [
    "def backPropagation(W1, b1, W2, b2, alpha, z1, z2, a1, a2, Y, X):\n",
    "    dz2 = a2 - Y\n",
    "    dW2 = dz2 @ a1.T\n",
    "    db2 = np.sum(dz2, axis=1).reshape(10, 1)\n",
    "    da1 = W2.T @ dz2\n",
    "    dz1 = np.multiply(da1, derivative_relu(z1))\n",
    "    dW1 = dz1 @ X.T\n",
    "    db1 = np.sum(dz1, axis=1).reshape(10, 1)\n",
    "\n",
    "\n",
    "    # Clip gradients before using them to update weights\n",
    "    gradients = [dW1, dW2, db1, db2]\n",
    "    gradients = clip_gradients(gradients)\n",
    "\n",
    "    # Update weights and biases\n",
    "    W1 -= alpha * gradients[0]\n",
    "    W2 -= alpha * gradients[1]\n",
    "    b1 -= alpha * gradients[2]\n",
    "    b2 -= alpha * gradients[3]\n",
    "    return W1, W2, b1, b2\n"
   ]
  },
  {
   "cell_type": "code",
   "execution_count": 68,
   "metadata": {},
   "outputs": [
    {
     "data": {
      "text/plain": [
       "'for x in range(500):\\n    z1, a1, z2, a2 = forwardProp(X, W1, b1, ReLu, W2, b2, softmax)\\n    W1, W2, b1, b2 = backPropagation(W1, b1, W2, b2, .001, z1, z2, a1, a2, Y, X)\\n    '"
      ]
     },
     "execution_count": 68,
     "metadata": {},
     "output_type": "execute_result"
    }
   ],
   "source": [
    "'''for x in range(500):\n",
    "    z1, a1, z2, a2 = forwardProp(X, W1, b1, ReLu, W2, b2, softmax)\n",
    "    W1, W2, b1, b2 = backPropagation(W1, b1, W2, b2, .001, z1, z2, a1, a2, Y, X)\n",
    "    '''"
   ]
  },
  {
   "cell_type": "code",
   "execution_count": 69,
   "metadata": {},
   "outputs": [
    {
     "data": {
      "text/plain": [
       "'z1,a1,z2,a2=forwardProp(Xtest,W1,b1,ReLu,W2,b2,softmax)'"
      ]
     },
     "execution_count": 69,
     "metadata": {},
     "output_type": "execute_result"
    }
   ],
   "source": [
    "'''z1,a1,z2,a2=forwardProp(Xtest,W1,b1,ReLu,W2,b2,softmax)'''"
   ]
  },
  {
   "cell_type": "code",
   "execution_count": 70,
   "metadata": {},
   "outputs": [],
   "source": [
    "#yhat = np.argmax(a2, axis=0).reshape(2000,1)"
   ]
  },
  {
   "cell_type": "code",
   "execution_count": 71,
   "metadata": {},
   "outputs": [
    {
     "data": {
      "text/plain": [
       "'counter= 0\\nYtest = Ytest.T\\nyhat.shape'"
      ]
     },
     "execution_count": 71,
     "metadata": {},
     "output_type": "execute_result"
    }
   ],
   "source": [
    "'''counter= 0\n",
    "Ytest = Ytest.T\n",
    "yhat.shape'''"
   ]
  },
  {
   "cell_type": "code",
   "execution_count": 72,
   "metadata": {},
   "outputs": [
    {
     "data": {
      "text/plain": [
       "(1, 2000)"
      ]
     },
     "execution_count": 72,
     "metadata": {},
     "output_type": "execute_result"
    }
   ],
   "source": [
    "m = 2000\n",
    "Ytest.shape"
   ]
  },
  {
   "cell_type": "code",
   "execution_count": 73,
   "metadata": {},
   "outputs": [
    {
     "data": {
      "text/plain": [
       "'for i in range(m):\\n    if Ytest[[i]]==yhat[[i]]:\\n        counter +=1\\nprint(counter)'"
      ]
     },
     "execution_count": 73,
     "metadata": {},
     "output_type": "execute_result"
    }
   ],
   "source": [
    "'''for i in range(m):\n",
    "    if Ytest[[i]]==yhat[[i]]:\n",
    "        counter +=1\n",
    "print(counter)'''"
   ]
  },
  {
   "cell_type": "code",
   "execution_count": 74,
   "metadata": {},
   "outputs": [],
   "source": [
    "def get_predictions(a):\n",
    "    return np.argmax(a, axis=0)\n",
    "\n",
    "def get_accuracy(predictions, Y_bar):\n",
    "    print(predictions, Y_bar)\n",
    "    return np.sum(predictions == Y_bar) / Y_bar.size"
   ]
  },
  {
   "cell_type": "code",
   "execution_count": 75,
   "metadata": {},
   "outputs": [
    {
     "name": "stdout",
     "output_type": "stream",
     "text": [
      "Iteration:  0\n",
      "[9 9 9 ... 1 0 9] [[3 1 6 ... 7 6 9]]\n",
      "0.123575\n",
      "Iteration:  10\n",
      "[8 1 8 ... 7 0 8] [[3 1 6 ... 7 6 9]]\n",
      "0.417925\n",
      "Iteration:  20\n",
      "[8 1 6 ... 7 0 9] [[3 1 6 ... 7 6 9]]\n",
      "0.66525\n",
      "Iteration:  30\n",
      "[8 1 6 ... 7 6 9] [[3 1 6 ... 7 6 9]]\n",
      "0.768975\n",
      "Iteration:  40\n",
      "[8 1 6 ... 7 6 9] [[3 1 6 ... 7 6 9]]\n",
      "0.8075\n",
      "Iteration:  50\n",
      "[3 1 6 ... 7 6 9] [[3 1 6 ... 7 6 9]]\n",
      "0.827575\n",
      "Iteration:  60\n",
      "[3 1 6 ... 7 6 9] [[3 1 6 ... 7 6 9]]\n",
      "0.83885\n",
      "Iteration:  70\n",
      "[3 1 6 ... 7 6 9] [[3 1 6 ... 7 6 9]]\n",
      "0.8469\n",
      "Iteration:  80\n",
      "[3 1 6 ... 7 6 9] [[3 1 6 ... 7 6 9]]\n",
      "0.854\n",
      "Iteration:  90\n",
      "[3 1 6 ... 7 6 9] [[3 1 6 ... 7 6 9]]\n",
      "0.857575\n"
     ]
    }
   ],
   "source": [
    "for i in range(100):\n",
    "    z1, a1, z2, a2 = forwardProp(X, W1, b1, ReLu, W2, b2, softmax)\n",
    "    W1, W2, b1, b2 = backPropagation(W1, b1, W2, b2, .001, z1, z2, a1, a2, Y, X)\n",
    "    if i % 10 == 0:\n",
    "            print(\"Iteration: \", i)\n",
    "            predictions = get_predictions(a2)\n",
    "            print(get_accuracy(predictions, Y_bar))"
   ]
  },
  {
   "cell_type": "code",
   "execution_count": 76,
   "metadata": {},
   "outputs": [
    {
     "data": {
      "text/html": [
       "<div>\n",
       "<style scoped>\n",
       "    .dataframe tbody tr th:only-of-type {\n",
       "        vertical-align: middle;\n",
       "    }\n",
       "\n",
       "    .dataframe tbody tr th {\n",
       "        vertical-align: top;\n",
       "    }\n",
       "\n",
       "    .dataframe thead th {\n",
       "        text-align: right;\n",
       "    }\n",
       "</style>\n",
       "<table border=\"1\" class=\"dataframe\">\n",
       "  <thead>\n",
       "    <tr style=\"text-align: right;\">\n",
       "      <th></th>\n",
       "      <th>0</th>\n",
       "      <th>1</th>\n",
       "      <th>2</th>\n",
       "      <th>3</th>\n",
       "      <th>4</th>\n",
       "      <th>5</th>\n",
       "      <th>6</th>\n",
       "      <th>7</th>\n",
       "      <th>8</th>\n",
       "      <th>9</th>\n",
       "    </tr>\n",
       "  </thead>\n",
       "  <tbody>\n",
       "    <tr>\n",
       "      <th>0</th>\n",
       "      <td>1</td>\n",
       "      <td>1</td>\n",
       "      <td>2</td>\n",
       "      <td>1</td>\n",
       "      <td>9</td>\n",
       "      <td>1</td>\n",
       "      <td>1</td>\n",
       "      <td>7</td>\n",
       "      <td>1</td>\n",
       "      <td>0</td>\n",
       "    </tr>\n",
       "    <tr>\n",
       "      <th>1</th>\n",
       "      <td>1</td>\n",
       "      <td>1</td>\n",
       "      <td>1</td>\n",
       "      <td>1</td>\n",
       "      <td>0</td>\n",
       "      <td>1</td>\n",
       "      <td>1</td>\n",
       "      <td>0</td>\n",
       "      <td>1</td>\n",
       "      <td>5</td>\n",
       "    </tr>\n",
       "    <tr>\n",
       "      <th>2</th>\n",
       "      <td>1</td>\n",
       "      <td>1</td>\n",
       "      <td>0</td>\n",
       "      <td>1</td>\n",
       "      <td>3</td>\n",
       "      <td>1</td>\n",
       "      <td>1</td>\n",
       "      <td>5</td>\n",
       "      <td>1</td>\n",
       "      <td>4</td>\n",
       "    </tr>\n",
       "    <tr>\n",
       "      <th>3</th>\n",
       "      <td>1</td>\n",
       "      <td>1</td>\n",
       "      <td>4</td>\n",
       "      <td>1</td>\n",
       "      <td>0</td>\n",
       "      <td>1</td>\n",
       "      <td>1</td>\n",
       "      <td>5</td>\n",
       "      <td>1</td>\n",
       "      <td>0</td>\n",
       "    </tr>\n",
       "    <tr>\n",
       "      <th>4</th>\n",
       "      <td>1</td>\n",
       "      <td>1</td>\n",
       "      <td>10</td>\n",
       "      <td>1</td>\n",
       "      <td>12</td>\n",
       "      <td>1</td>\n",
       "      <td>1</td>\n",
       "      <td>3</td>\n",
       "      <td>1</td>\n",
       "      <td>1</td>\n",
       "    </tr>\n",
       "  </tbody>\n",
       "</table>\n",
       "</div>"
      ],
      "text/plain": [
       "   0  1   2  3   4  5  6  7  8  9\n",
       "0  1  1   2  1   9  1  1  7  1  0\n",
       "1  1  1   1  1   0  1  1  0  1  5\n",
       "2  1  1   0  1   3  1  1  5  1  4\n",
       "3  1  1   4  1   0  1  1  5  1  0\n",
       "4  1  1  10  1  12  1  1  3  1  1"
      ]
     },
     "execution_count": 76,
     "metadata": {},
     "output_type": "execute_result"
    }
   ],
   "source": [
    "imdata = pd.read_csv('../kaggle/input/digit-recognizer/data.csv')\n",
    "imdata.shape\n",
    "imdata.head()"
   ]
  },
  {
   "cell_type": "code",
   "execution_count": 77,
   "metadata": {},
   "outputs": [
    {
     "data": {
      "text/plain": [
       "(784, 10)"
      ]
     },
     "execution_count": 77,
     "metadata": {},
     "output_type": "execute_result"
    }
   ],
   "source": [
    "imx = imdata.to_numpy()\n",
    "imx.shape\n"
   ]
  },
  {
   "cell_type": "code",
   "execution_count": 78,
   "metadata": {},
   "outputs": [
    {
     "data": {
      "text/plain": [
       "(1, 10)"
      ]
     },
     "execution_count": 78,
     "metadata": {},
     "output_type": "execute_result"
    }
   ],
   "source": [
    "labelimx=np.matrix([0,1,2,3,4,5,6,7,8,9])\n",
    "labelimx=labelimx.reshape(1,labelimx.size) #reshape by 1 row by num of entries)\n",
    "labelimx.shape"
   ]
  },
  {
   "cell_type": "code",
   "execution_count": 79,
   "metadata": {},
   "outputs": [
    {
     "data": {
      "text/plain": [
       "(784, 10)"
      ]
     },
     "execution_count": 79,
     "metadata": {},
     "output_type": "execute_result"
    }
   ],
   "source": [
    "dataimx=imx[0:784, :]\n",
    "dataimx.shape"
   ]
  },
  {
   "cell_type": "code",
   "execution_count": 80,
   "metadata": {},
   "outputs": [
    {
     "name": "stdout",
     "output_type": "stream",
     "text": [
      "[2 1 2 3 4 5 5 2 5 4] [[0 1 2 3 4 5 6 7 8 9]]\n",
      "0.5\n"
     ]
    }
   ],
   "source": [
    "z1, a1, z2, a2 = forwardProp(dataimx, W1, b1, ReLu, W2, b2, softmax)\n",
    "predictions = get_predictions(a2)\n",
    "print(get_accuracy(predictions, labelimx))"
   ]
  }
 ],
 "metadata": {
  "kernelspec": {
   "display_name": ".venv",
   "language": "python",
   "name": "python3"
  },
  "language_info": {
   "codemirror_mode": {
    "name": "ipython",
    "version": 3
   },
   "file_extension": ".py",
   "mimetype": "text/x-python",
   "name": "python",
   "nbconvert_exporter": "python",
   "pygments_lexer": "ipython3",
   "version": "3.8.9"
  }
 },
 "nbformat": 4,
 "nbformat_minor": 2
}
